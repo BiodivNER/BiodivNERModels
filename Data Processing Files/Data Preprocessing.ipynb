{
  "nbformat": 4,
  "nbformat_minor": 0,
  "metadata": {
    "colab": {
      "provenance": []
    },
    "kernelspec": {
      "name": "python3",
      "display_name": "Python 3"
    },
    "language_info": {
      "name": "python"
    }
  },
  "cells": [
    {
      "cell_type": "markdown",
      "source": [
        "# Data Preprocessing"
      ],
      "metadata": {
        "id": "tsw7xPUPABHU"
      }
    },
    {
      "cell_type": "markdown",
      "source": [
        "Get the GitHub repository where the dataset is stored and the other necessary files"
      ],
      "metadata": {
        "id": "Ls2O8T7PAF9t"
      }
    },
    {
      "cell_type": "code",
      "execution_count": 3,
      "metadata": {
        "colab": {
          "base_uri": "https://localhost:8080/"
        },
        "id": "ooFARTxU9Yxw",
        "outputId": "5a355789-f965-482f-f7c0-184e64b0d02b"
      },
      "outputs": [
        {
          "output_type": "stream",
          "name": "stdout",
          "text": [
            "fatal: destination path 'BiodivNERModels' already exists and is not an empty directory.\n"
          ]
        }
      ],
      "source": [
        "!git clone https://github.com/BiodivNER/BiodivNERModels.git"
      ]
    },
    {
      "cell_type": "markdown",
      "source": [
        "Set the folder paths for the test, dev, and train files"
      ],
      "metadata": {
        "id": "uZmw8dSAATIW"
      }
    },
    {
      "cell_type": "code",
      "source": [
        "folder_path_test = 'BiodivNERModels/copious-dataset/test'\n",
        "folder_path_train = 'BiodivNERModels/copious-dataset/train'\n",
        "folder_path_dev = 'BiodivNERModels/copious-datasetdev'"
      ],
      "metadata": {
        "id": "r3uTfCkZAad-"
      },
      "execution_count": 4,
      "outputs": []
    },
    {
      "cell_type": "markdown",
      "source": [
        "For each category, process the files using the anntoconll.py file from [brat](https://github.com/nlplab/brat)"
      ],
      "metadata": {
        "id": "8hFVnnQbAfyQ"
      }
    },
    {
      "cell_type": "markdown",
      "source": [
        "or upload the anntoconll.py, sentencesplit.py, ssplit.py, and sspostproc.py files from the Data Preprocessing folder"
      ],
      "metadata": {
        "id": "gL205DczxJLs"
      }
    },
    {
      "cell_type": "markdown",
      "source": [
        "## Test"
      ],
      "metadata": {
        "id": "Yfi2WBlJA0mf"
      }
    },
    {
      "cell_type": "code",
      "source": [
        "import os,glob\n",
        "for filename in glob.glob(os.path.join(folder_path_test, '*.txt')):\n",
        "  with open(filename, 'r', encoding=\"utf-8\") as f:\n",
        "      os.system('python anntoconll.py '+ filename)"
      ],
      "metadata": {
        "id": "dhbQG7HJA4-I"
      },
      "execution_count": 5,
      "outputs": []
    },
    {
      "cell_type": "code",
      "source": [
        "!cat BiodivNERModels/copious-dataset/test/*.conll >> test.txt"
      ],
      "metadata": {
        "id": "UoaHUitrBHfb"
      },
      "execution_count": 8,
      "outputs": []
    },
    {
      "cell_type": "markdown",
      "source": [
        "## Dev"
      ],
      "metadata": {
        "id": "gxr_BPMPCKMU"
      }
    },
    {
      "cell_type": "code",
      "source": [
        "import os,glob\n",
        "for filename in glob.glob(os.path.join(folder_path_dev, '*.txt')):\n",
        "  with open(filename, 'r', encoding=\"utf-8\") as f:\n",
        "      os.system('python anntoconll.py '+ filename)"
      ],
      "metadata": {
        "id": "6RjGvk21CKMe"
      },
      "execution_count": null,
      "outputs": []
    },
    {
      "cell_type": "code",
      "source": [
        "!cat BiodivNERModels/copious-dataset/dev/*.conll >> dev.txt"
      ],
      "metadata": {
        "id": "qBClMe1NCKMe"
      },
      "execution_count": null,
      "outputs": []
    },
    {
      "cell_type": "markdown",
      "source": [
        "## Train"
      ],
      "metadata": {
        "id": "icBvXtdDCTIT"
      }
    },
    {
      "cell_type": "code",
      "source": [
        "import os,glob\n",
        "for filename in glob.glob(os.path.join(folder_path_train, '*.txt')):\n",
        "  with open(filename, 'r', encoding=\"utf-8\") as f:\n",
        "      os.system('python anntoconll.py '+ filename)"
      ],
      "metadata": {
        "id": "d0fREFolCTIT"
      },
      "execution_count": null,
      "outputs": []
    },
    {
      "cell_type": "code",
      "source": [
        "!cat BiodivNERModels/copious-dataset/train/*.conll >> train.txt"
      ],
      "metadata": {
        "id": "qdTp9F2RCTIT"
      },
      "execution_count": null,
      "outputs": []
    }
  ]
}